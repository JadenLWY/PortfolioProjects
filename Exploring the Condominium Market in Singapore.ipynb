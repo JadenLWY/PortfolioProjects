{
 "cells": [
  {
   "cell_type": "markdown",
   "metadata": {},
   "source": [
    "# Case Study - Condo Market in Singapore\n",
    "\n",
    "## Learning Objectives:\n",
    "- Become familiar with different visualization techniques  \n",
    "- Understand the confounding effect and the way to control for it\n",
    "- Explore possible relationships among multiple variables "
   ]
  },
  {
   "cell_type": "markdown",
   "metadata": {},
   "source": [
    "<i><b>Background</b></i>: Buying a condo might be a dream for some Singaporeans. Depending on the location and area of the property, the corresponding price differs substantially. For those who want to buy condos for residing or for investments, a deeper understanding of Singapore’s real estate market is crucial. The file `condo.csv` contains the prices of condos in Singapore for the past several years. Moreover, some attributes of such condos are also included in the file."
   ]
  },
  {
   "cell_type": "code",
   "execution_count": 1,
   "metadata": {},
   "outputs": [],
   "source": [
    "from matplotlib import pyplot as plt\n",
    "plt.style.use(\"fivethirtyeight\")\n",
    "\n",
    "import seaborn as sns\n",
    "import numpy as np"
   ]
  },
  {
   "cell_type": "code",
   "execution_count": 2,
   "metadata": {},
   "outputs": [
    {
     "data": {
      "text/html": [
       "<div>\n",
       "<style scoped>\n",
       "    .dataframe tbody tr th:only-of-type {\n",
       "        vertical-align: middle;\n",
       "    }\n",
       "\n",
       "    .dataframe tbody tr th {\n",
       "        vertical-align: top;\n",
       "    }\n",
       "\n",
       "    .dataframe thead th {\n",
       "        text-align: right;\n",
       "    }\n",
       "</style>\n",
       "<table border=\"1\" class=\"dataframe\">\n",
       "  <thead>\n",
       "    <tr style=\"text-align: right;\">\n",
       "      <th></th>\n",
       "      <th>name</th>\n",
       "      <th>price</th>\n",
       "      <th>unit_price</th>\n",
       "      <th>district_code</th>\n",
       "      <th>segment</th>\n",
       "      <th>type</th>\n",
       "      <th>area</th>\n",
       "      <th>level</th>\n",
       "      <th>remaining_years</th>\n",
       "      <th>date</th>\n",
       "    </tr>\n",
       "  </thead>\n",
       "  <tbody>\n",
       "    <tr>\n",
       "      <th>0</th>\n",
       "      <td>SEASCAPE</td>\n",
       "      <td>4388000</td>\n",
       "      <td>2028</td>\n",
       "      <td>4</td>\n",
       "      <td>CCR</td>\n",
       "      <td>Resale</td>\n",
       "      <td>2164</td>\n",
       "      <td>06 to 10</td>\n",
       "      <td>87.0</td>\n",
       "      <td>Nov-19</td>\n",
       "    </tr>\n",
       "    <tr>\n",
       "      <th>1</th>\n",
       "      <td>COMMONWEALTH TOWERS</td>\n",
       "      <td>1300000</td>\n",
       "      <td>1887</td>\n",
       "      <td>3</td>\n",
       "      <td>RCR</td>\n",
       "      <td>Resale</td>\n",
       "      <td>689</td>\n",
       "      <td>16 to 20</td>\n",
       "      <td>93.0</td>\n",
       "      <td>Nov-19</td>\n",
       "    </tr>\n",
       "    <tr>\n",
       "      <th>2</th>\n",
       "      <td>THE TRILINQ</td>\n",
       "      <td>1755000</td>\n",
       "      <td>1304</td>\n",
       "      <td>5</td>\n",
       "      <td>OCR</td>\n",
       "      <td>Resale</td>\n",
       "      <td>1346</td>\n",
       "      <td>06 to 10</td>\n",
       "      <td>92.0</td>\n",
       "      <td>Nov-19</td>\n",
       "    </tr>\n",
       "    <tr>\n",
       "      <th>3</th>\n",
       "      <td>THE CREST</td>\n",
       "      <td>2085000</td>\n",
       "      <td>2201</td>\n",
       "      <td>3</td>\n",
       "      <td>RCR</td>\n",
       "      <td>Resale</td>\n",
       "      <td>947</td>\n",
       "      <td>01 to 05</td>\n",
       "      <td>92.0</td>\n",
       "      <td>Nov-19</td>\n",
       "    </tr>\n",
       "    <tr>\n",
       "      <th>4</th>\n",
       "      <td>THE ANCHORAGE</td>\n",
       "      <td>1848888</td>\n",
       "      <td>1468</td>\n",
       "      <td>3</td>\n",
       "      <td>RCR</td>\n",
       "      <td>Resale</td>\n",
       "      <td>1259</td>\n",
       "      <td>01 to 05</td>\n",
       "      <td>999.0</td>\n",
       "      <td>Nov-19</td>\n",
       "    </tr>\n",
       "    <tr>\n",
       "      <th>5</th>\n",
       "      <td>MOUNT FABER LODGE</td>\n",
       "      <td>4400000</td>\n",
       "      <td>1188</td>\n",
       "      <td>4</td>\n",
       "      <td>RCR</td>\n",
       "      <td>Resale</td>\n",
       "      <td>3703</td>\n",
       "      <td>06 to 10</td>\n",
       "      <td>999.0</td>\n",
       "      <td>Oct-19</td>\n",
       "    </tr>\n",
       "    <tr>\n",
       "      <th>6</th>\n",
       "      <td>BLUE HORIZON</td>\n",
       "      <td>990000</td>\n",
       "      <td>1022</td>\n",
       "      <td>5</td>\n",
       "      <td>OCR</td>\n",
       "      <td>Resale</td>\n",
       "      <td>969</td>\n",
       "      <td>21 to 25</td>\n",
       "      <td>80.0</td>\n",
       "      <td>Oct-19</td>\n",
       "    </tr>\n",
       "    <tr>\n",
       "      <th>7</th>\n",
       "      <td>DOVER PARKVIEW</td>\n",
       "      <td>1088000</td>\n",
       "      <td>1162</td>\n",
       "      <td>5</td>\n",
       "      <td>RCR</td>\n",
       "      <td>Resale</td>\n",
       "      <td>936</td>\n",
       "      <td>06 to 10</td>\n",
       "      <td>73.0</td>\n",
       "      <td>Oct-19</td>\n",
       "    </tr>\n",
       "    <tr>\n",
       "      <th>8</th>\n",
       "      <td>CARIBBEAN AT KEPPEL BAY</td>\n",
       "      <td>1470000</td>\n",
       "      <td>1751</td>\n",
       "      <td>4</td>\n",
       "      <td>RCR</td>\n",
       "      <td>Resale</td>\n",
       "      <td>840</td>\n",
       "      <td>06 to 10</td>\n",
       "      <td>79.0</td>\n",
       "      <td>Oct-19</td>\n",
       "    </tr>\n",
       "    <tr>\n",
       "      <th>9</th>\n",
       "      <td>THE INTERLACE</td>\n",
       "      <td>4550000</td>\n",
       "      <td>868</td>\n",
       "      <td>4</td>\n",
       "      <td>RCR</td>\n",
       "      <td>Resale</td>\n",
       "      <td>5242</td>\n",
       "      <td>16 to 20</td>\n",
       "      <td>89.0</td>\n",
       "      <td>Oct-19</td>\n",
       "    </tr>\n",
       "  </tbody>\n",
       "</table>\n",
       "</div>"
      ],
      "text/plain": [
       "                      name    price  unit_price  district_code segment  \\\n",
       "0                 SEASCAPE  4388000        2028              4     CCR   \n",
       "1      COMMONWEALTH TOWERS  1300000        1887              3     RCR   \n",
       "2              THE TRILINQ  1755000        1304              5     OCR   \n",
       "3                THE CREST  2085000        2201              3     RCR   \n",
       "4            THE ANCHORAGE  1848888        1468              3     RCR   \n",
       "5        MOUNT FABER LODGE  4400000        1188              4     RCR   \n",
       "6             BLUE HORIZON   990000        1022              5     OCR   \n",
       "7           DOVER PARKVIEW  1088000        1162              5     RCR   \n",
       "8  CARIBBEAN AT KEPPEL BAY  1470000        1751              4     RCR   \n",
       "9            THE INTERLACE  4550000         868              4     RCR   \n",
       "\n",
       "     type  area     level  remaining_years    date  \n",
       "0  Resale  2164  06 to 10             87.0  Nov-19  \n",
       "1  Resale   689  16 to 20             93.0  Nov-19  \n",
       "2  Resale  1346  06 to 10             92.0  Nov-19  \n",
       "3  Resale   947  01 to 05             92.0  Nov-19  \n",
       "4  Resale  1259  01 to 05            999.0  Nov-19  \n",
       "5  Resale  3703  06 to 10            999.0  Oct-19  \n",
       "6  Resale   969  21 to 25             80.0  Oct-19  \n",
       "7  Resale   936  06 to 10             73.0  Oct-19  \n",
       "8  Resale   840  06 to 10             79.0  Oct-19  \n",
       "9  Resale  5242  16 to 20             89.0  Oct-19  "
      ]
     },
     "execution_count": 2,
     "metadata": {},
     "output_type": "execute_result"
    }
   ],
   "source": [
    "import pandas as pd\n",
    "\n",
    "df = pd.read_csv(\"condo.csv\") \n",
    "df.head(10)"
   ]
  },
  {
   "cell_type": "markdown",
   "metadata": {},
   "source": [
    "## Task 1: Explore the relationship between the condo price and the condo type\n",
    "\n",
    "For a Singaporean who wants to invest in the real estate market, would you suggest him or her to buy resale condos or newly built condos? Please analyze the historical data in the file `condo.csv` to arrive at your conclusion. Specifically, you need to explore the relationship between the condo price and the type of the condo (resale versus new). <b>Note</b>: if you want to draw histograms to explore the distribution of the condo price, please set bins as `np.arange(0.5e6, 5e6, 0.1e6)`. "
   ]
  },
  {
   "cell_type": "code",
   "execution_count": 5,
   "metadata": {},
   "outputs": [],
   "source": [
    "resale = df['type']=='Resale'\n",
    "df_resale = df.loc[resale].copy()\n"
   ]
  },
  {
   "cell_type": "code",
   "execution_count": 6,
   "metadata": {},
   "outputs": [],
   "source": [
    "NewSale = df['type']=='New Sale'\n",
    "df_NewSale = df.loc[NewSale].copy()\n"
   ]
  },
  {
   "cell_type": "code",
   "execution_count": 7,
   "metadata": {},
   "outputs": [],
   "source": [
    "bin_edges =np.arange(0.5e6, 5e6, 0.1e6)"
   ]
  },
  {
   "cell_type": "code",
   "execution_count": 8,
   "metadata": {},
   "outputs": [
    {
     "data": {
      "image/png": "[encoded data removed]",
      "text/plain": [
       "<Figure size 432x288 with 1 Axes>"
      ]
     },
     "metadata": {},
     "output_type": "display_data"
    }
   ],
   "source": [
    "bin_edges =np.arange(0.5e6, 5e6, 0.1e6)\n",
    "plt.hist(df_resale[\"price\"], bins = bin_edges, edgecolor = \"black\", label = \"Resale\")\n",
    "plt.hist(df_NewSale[\"price\"], bins = bin_edges, edgecolor = \"black\", label = \"New Sale\")\n",
    "\n",
    "plt.xlabel('Prices (S$)')\n",
    "plt.ylabel('Frequency')\n",
    "plt.legend()\n",
    "\n",
    "plt.show()"
   ]
  },
  {
   "cell_type": "code",
   "execution_count": 44,
   "metadata": {},
   "outputs": [
    {
     "data": {
      "image/png": "[encoded data removed]",
      "text/plain": [
       "<Figure size 720x720 with 2 Axes>"
      ]
     },
     "metadata": {},
     "output_type": "display_data"
    }
   ],
   "source": [
    "fig, axes = plt.subplots(2, 1, figsize = (10,10))\n",
    "sns.histplot(df.loc[resale,'price'], bins = bin_edges, edgecolor = \"black\", ax = axes[0], label = 'Resale')\n",
    "axes[0].legend(loc = 'upper right')\n",
    "axes[0].set_xlabel('Price')\n",
    "axes[0].set_ylabel('Frequency')\n",
    "\n",
    "\n",
    "\n",
    "\n",
    "sns.histplot(df.loc[NewSale,'price'], bins = bin_edges, edgecolor = \"black\", color = 'red', ax = axes[1], label = \"New Sale\")\n",
    "axes[1].legend(loc = 'upper right')\n",
    "axes[1].set_xlabel('Price')\n",
    "axes[1].set_ylabel('Frequency')\n",
    "\n",
    "\n",
    "plt.show()"
   ]
  },
  {
   "cell_type": "code",
   "execution_count": 13,
   "metadata": {},
   "outputs": [
    {
     "data": {
      "image/png": "[encoded data removed]",
      "text/plain": [
       "<Figure size 432x288 with 1 Axes>"
      ]
     },
     "metadata": {},
     "output_type": "display_data"
    }
   ],
   "source": [
    "data_list = [\"Resale\", \"New Sale\"]\n",
    "data = [df_resale[\"price\"], df_NewSale[\"price\"]]\n",
    "\n",
    "plt.boxplot(x=data)\n",
    "plt.yscale(\"log\")\n",
    "plt.xticks([1,2], data_list)\n",
    "\n",
    "\n",
    "plt.show()"
   ]
  },
  {
   "cell_type": "code",
   "execution_count": 14,
   "metadata": {},
   "outputs": [
    {
     "data": {
      "image/png": "[encoded data removed]",
      "text/plain": [
       "<Figure size 432x288 with 1 Axes>"
      ]
     },
     "metadata": {},
     "output_type": "display_data"
    }
   ],
   "source": [
    "plt.bar(['Resale', 'New Sale'], [df_resale['price'].mean(),df_NewSale['price'].mean()])                           \n",
    "                                               \n",
    "\n",
    "plt.xlabel('Type')\n",
    "plt.ylabel('Average prices (S$)')\n",
    "\n",
    "plt.tight_layout()\n",
    "plt.show()"
   ]
  },
  {
   "cell_type": "markdown",
   "metadata": {},
   "source": [
    "Newly build condo have lower average price. However, the amount of newly build condo are also lesser. Therefore, if the person has lower budget and willing to wait, I will recommend to go for the newly build condo as compared to resale."
   ]
  },
  {
   "cell_type": "markdown",
   "metadata": {},
   "source": [
    "This is a counter-intuitive finding that resale condos are more expensive than the new condos on average. Can you think about a possible reason for this? "
   ]
  },
  {
   "cell_type": "code",
   "execution_count": 3,
   "metadata": {},
   "outputs": [
    {
     "data": {
      "text/html": [
       "<div>\n",
       "<style scoped>\n",
       "    .dataframe tbody tr th:only-of-type {\n",
       "        vertical-align: middle;\n",
       "    }\n",
       "\n",
       "    .dataframe tbody tr th {\n",
       "        vertical-align: top;\n",
       "    }\n",
       "\n",
       "    .dataframe thead th {\n",
       "        text-align: right;\n",
       "    }\n",
       "</style>\n",
       "<table border=\"1\" class=\"dataframe\">\n",
       "  <thead>\n",
       "    <tr style=\"text-align: right;\">\n",
       "      <th></th>\n",
       "      <th>price</th>\n",
       "      <th>unit_price</th>\n",
       "      <th>district_code</th>\n",
       "      <th>area</th>\n",
       "      <th>remaining_years</th>\n",
       "    </tr>\n",
       "  </thead>\n",
       "  <tbody>\n",
       "    <tr>\n",
       "      <th>price</th>\n",
       "      <td>1.000000</td>\n",
       "      <td>0.553459</td>\n",
       "      <td>-0.263391</td>\n",
       "      <td>0.768299</td>\n",
       "      <td>0.356897</td>\n",
       "    </tr>\n",
       "    <tr>\n",
       "      <th>unit_price</th>\n",
       "      <td>0.553459</td>\n",
       "      <td>1.000000</td>\n",
       "      <td>-0.448880</td>\n",
       "      <td>0.028614</td>\n",
       "      <td>0.273693</td>\n",
       "    </tr>\n",
       "    <tr>\n",
       "      <th>district_code</th>\n",
       "      <td>-0.263391</td>\n",
       "      <td>-0.448880</td>\n",
       "      <td>1.000000</td>\n",
       "      <td>-0.102627</td>\n",
       "      <td>-0.088676</td>\n",
       "    </tr>\n",
       "    <tr>\n",
       "      <th>area</th>\n",
       "      <td>0.768299</td>\n",
       "      <td>0.028614</td>\n",
       "      <td>-0.102627</td>\n",
       "      <td>1.000000</td>\n",
       "      <td>0.305484</td>\n",
       "    </tr>\n",
       "    <tr>\n",
       "      <th>remaining_years</th>\n",
       "      <td>0.356897</td>\n",
       "      <td>0.273693</td>\n",
       "      <td>-0.088676</td>\n",
       "      <td>0.305484</td>\n",
       "      <td>1.000000</td>\n",
       "    </tr>\n",
       "  </tbody>\n",
       "</table>\n",
       "</div>"
      ],
      "text/plain": [
       "                    price  unit_price  district_code      area  \\\n",
       "price            1.000000    0.553459      -0.263391  0.768299   \n",
       "unit_price       0.553459    1.000000      -0.448880  0.028614   \n",
       "district_code   -0.263391   -0.448880       1.000000 -0.102627   \n",
       "area             0.768299    0.028614      -0.102627  1.000000   \n",
       "remaining_years  0.356897    0.273693      -0.088676  0.305484   \n",
       "\n",
       "                 remaining_years  \n",
       "price                   0.356897  \n",
       "unit_price              0.273693  \n",
       "district_code          -0.088676  \n",
       "area                    0.305484  \n",
       "remaining_years         1.000000  "
      ]
     },
     "execution_count": 3,
     "metadata": {},
     "output_type": "execute_result"
    }
   ],
   "source": [
    "df.corr()"
   ]
  },
  {
   "cell_type": "markdown",
   "metadata": {},
   "source": [
    "#### From the correlation, we can see that the that there is a high correlation between the price and area. Therefore, we assume that that the average price of resale is higher than new condos is due to the size of the condos."
   ]
  },
  {
   "cell_type": "code",
   "execution_count": null,
   "metadata": {},
   "outputs": [],
   "source": []
  },
  {
   "cell_type": "code",
   "execution_count": null,
   "metadata": {},
   "outputs": [],
   "source": []
  },
  {
   "cell_type": "markdown",
   "metadata": {},
   "source": [
    "## Task 2: Explore the relationship between the condo area and the condo type\n",
    "\n",
    "\n",
    "Now let’s focus on another attribute of a condo in the data set, the area of a condo. Please explore the distribution of the area of a condo by the condo type. Please draw a visualization to present your findings? If you want to draw histograms to explore the distribution of the area of a condo, please set the bins as `np.arange(0.5e3, 10e3, 0.1e3)`."
   ]
  },
  {
   "cell_type": "code",
   "execution_count": 9,
   "metadata": {},
   "outputs": [
    {
     "data": {
      "image/png": "[encoded data removed]",
      "text/plain": [
       "<Figure size 432x288 with 1 Axes>"
      ]
     },
     "metadata": {},
     "output_type": "display_data"
    }
   ],
   "source": [
    "bin_edges =np.arange(0.5e3, 10e3, 0.1e3)\n",
    "plt.hist(df_resale[\"area\"], bins = bin_edges, edgecolor = \"black\", label = \"Resale\", alpha = 0.5)\n",
    "plt.hist(df_NewSale[\"area\"], bins = bin_edges, edgecolor = \"black\", label = \"New Sale\", alpha = 0.5)\n",
    "\n",
    "plt.xlabel('Type')\n",
    "plt.ylabel('Area')\n",
    "plt.legend()\n",
    "\n",
    "plt.show()"
   ]
  },
  {
   "cell_type": "code",
   "execution_count": 48,
   "metadata": {},
   "outputs": [
    {
     "data": {
      "image/png": "[encoded data removed]",
      "text/plain": [
       "<Figure size 720x720 with 2 Axes>"
      ]
     },
     "metadata": {},
     "output_type": "display_data"
    }
   ],
   "source": [
    "fig, axes = plt.subplots(2, 1, figsize = (10,10))\n",
    "sns.histplot(df.loc[resale,'area'], bins = bin_edges, edgecolor = \"black\", ax = axes[0], label = 'Resale')\n",
    "axes[0].legend(loc = 'upper right')\n",
    "axes[0].set_xlabel('Condo Size')\n",
    "axes[0].set_ylabel('Frequency')\n",
    "\n",
    "\n",
    "sns.histplot(df.loc[NewSale,'area'], bins = bin_edges, edgecolor = \"black\", color = 'red', ax = axes[1], label = \"New Sale\")\n",
    "\n",
    "axes[1].legend(loc = 'upper right')\n",
    "axes[1].set_xlabel('Condo Size')\n",
    "axes[1].set_ylabel('Frequency')\n",
    "\n",
    "\n",
    "plt.show()"
   ]
  },
  {
   "cell_type": "code",
   "execution_count": 49,
   "metadata": {},
   "outputs": [
    {
     "data": {
      "image/png": "[encoded data removed]",
      "text/plain": [
       "<Figure size 432x288 with 1 Axes>"
      ]
     },
     "metadata": {},
     "output_type": "display_data"
    }
   ],
   "source": [
    "plt.bar(['Resale', 'New Sale'], [df_resale['area'].mean(),df_NewSale['area'].mean()], width = 0.5)                           \n",
    "                                               \n",
    "\n",
    "plt.xlabel('Type')\n",
    "plt.ylabel('Condo Size (sqft)')\n",
    "\n",
    "\n",
    "plt.show()"
   ]
  },
  {
   "cell_type": "markdown",
   "metadata": {},
   "source": [
    "From the visualization, we can see that the average size of condo for resale is almost two times the size for new condos."
   ]
  },
  {
   "cell_type": "markdown",
   "metadata": {},
   "source": [
    "## Task 3: Explore the relationship between the condo area and the condo price\n",
    "\n",
    "\n",
    "Moreover, please explore the relationship between the area of a condo and its price. You can draw a scatter plot to uncover the possible pattern between the two variables."
   ]
  },
  {
   "cell_type": "code",
   "execution_count": 10,
   "metadata": {},
   "outputs": [
    {
     "data": {
      "image/png": "[encoded data removed]",
      "text/plain": [
       "<Figure size 432x288 with 1 Axes>"
      ]
     },
     "metadata": {},
     "output_type": "display_data"
    }
   ],
   "source": [
    "plt.scatter(df['area'],df['price'], c = (df.type == 'Resale'), alpha = 0.5, label = 'Resale') \n",
    "#plt.scatter(df['area'],df['price'], c = (df.type == 'New Sale'), label = 'New Sale') \n",
    "plt.xlabel('Condo Size')\n",
    "plt.ylabel('Condo Price')\n",
    "plt.legend()\n",
    "\n",
    "\n",
    "plt.show()"
   ]
  },
  {
   "cell_type": "raw",
   "metadata": {},
   "source": [
    "From this scatter plot, we can see a clearer relationship between the condo price and condo area. The price of the condo is directly proportion to the condo size."
   ]
  },
  {
   "cell_type": "code",
   "execution_count": null,
   "metadata": {},
   "outputs": [],
   "source": []
  },
  {
   "cell_type": "code",
   "execution_count": null,
   "metadata": {},
   "outputs": [],
   "source": []
  },
  {
   "cell_type": "markdown",
   "metadata": {},
   "source": [
    "From Tasks 1-3, now you should know the relationship found between the condo price and the condo type is not trustworthy. There is a third variable that is related to both the condo price and the condo type. In the above analysis, this third variable is the area of the condo. We call this third variable as the <i>confounder</i> or <i>confounding variable</i>. "
   ]
  },
  {
   "cell_type": "markdown",
   "metadata": {},
   "source": [
    "## Task 4: Grouping\n",
    "\n",
    "Now let’s explore the ways of controlling for the confounding effect of the area of a condo in the analysis. A useful method is to do a stratified analysis. Since the confounder variable, the area of a condo, is continuous, to simplify the discussion, a discretization is carried out. Please form a new variable in the data set by grouping the condos into 3 different categories in terms of their areas. The three categories are defined as follows:\n",
    "1.\tSmall: the area of a condo less than 800 square feet\n",
    "2.\tMedian: the area of a condo between 800 and 1200 square feet \n",
    "3.\tLarge: the area of a condo larger than 1200 square feet"
   ]
  },
  {
   "cell_type": "code",
   "execution_count": 81,
   "metadata": {},
   "outputs": [
    {
     "data": {
      "text/plain": [
       "0        False\n",
       "1         True\n",
       "2        False\n",
       "3        False\n",
       "4        False\n",
       "         ...  \n",
       "32163    False\n",
       "32164     True\n",
       "32165    False\n",
       "32166    False\n",
       "32167     True\n",
       "Name: area, Length: 32168, dtype: bool"
      ]
     },
     "execution_count": 81,
     "metadata": {},
     "output_type": "execute_result"
    }
   ],
   "source": [
    "SmallCondo = df['area'] < 800\n",
    "SmallCondo"
   ]
  },
  {
   "cell_type": "code",
   "execution_count": 82,
   "metadata": {},
   "outputs": [
    {
     "data": {
      "text/plain": [
       "0        False\n",
       "1        False\n",
       "2        False\n",
       "3         True\n",
       "4        False\n",
       "         ...  \n",
       "32163     True\n",
       "32164    False\n",
       "32165    False\n",
       "32166     True\n",
       "32167    False\n",
       "Name: area, Length: 32168, dtype: bool"
      ]
     },
     "execution_count": 82,
     "metadata": {},
     "output_type": "execute_result"
    }
   ],
   "source": [
    "MedianCondo = (df['area'] >= 800) & (df['area'] <= 1200)\n",
    "MedianCondo"
   ]
  },
  {
   "cell_type": "code",
   "execution_count": 83,
   "metadata": {},
   "outputs": [
    {
     "data": {
      "text/plain": [
       "0         True\n",
       "1        False\n",
       "2         True\n",
       "3        False\n",
       "4         True\n",
       "         ...  \n",
       "32163    False\n",
       "32164    False\n",
       "32165     True\n",
       "32166    False\n",
       "32167    False\n",
       "Name: area, Length: 32168, dtype: bool"
      ]
     },
     "execution_count": 83,
     "metadata": {},
     "output_type": "execute_result"
    }
   ],
   "source": [
    "LargeCondo = df['area'] > 1200\n",
    "LargeCondo"
   ]
  },
  {
   "cell_type": "code",
   "execution_count": null,
   "metadata": {},
   "outputs": [],
   "source": [
    "\n",
    "       "
   ]
  },
  {
   "cell_type": "code",
   "execution_count": 84,
   "metadata": {},
   "outputs": [
    {
     "data": {
      "text/html": [
       "<div>\n",
       "<style scoped>\n",
       "    .dataframe tbody tr th:only-of-type {\n",
       "        vertical-align: middle;\n",
       "    }\n",
       "\n",
       "    .dataframe tbody tr th {\n",
       "        vertical-align: top;\n",
       "    }\n",
       "\n",
       "    .dataframe thead th {\n",
       "        text-align: right;\n",
       "    }\n",
       "</style>\n",
       "<table border=\"1\" class=\"dataframe\">\n",
       "  <thead>\n",
       "    <tr style=\"text-align: right;\">\n",
       "      <th></th>\n",
       "      <th>name</th>\n",
       "      <th>price</th>\n",
       "      <th>unit_price</th>\n",
       "      <th>district_code</th>\n",
       "      <th>segment</th>\n",
       "      <th>type</th>\n",
       "      <th>area</th>\n",
       "      <th>level</th>\n",
       "      <th>remaining_years</th>\n",
       "      <th>date</th>\n",
       "      <th>AreaGp</th>\n",
       "    </tr>\n",
       "  </thead>\n",
       "  <tbody>\n",
       "    <tr>\n",
       "      <th>0</th>\n",
       "      <td>SEASCAPE</td>\n",
       "      <td>4388000</td>\n",
       "      <td>2028</td>\n",
       "      <td>4</td>\n",
       "      <td>CCR</td>\n",
       "      <td>Resale</td>\n",
       "      <td>2164</td>\n",
       "      <td>06 to 10</td>\n",
       "      <td>87.0</td>\n",
       "      <td>Nov-19</td>\n",
       "      <td>3</td>\n",
       "    </tr>\n",
       "    <tr>\n",
       "      <th>1</th>\n",
       "      <td>COMMONWEALTH TOWERS</td>\n",
       "      <td>1300000</td>\n",
       "      <td>1887</td>\n",
       "      <td>3</td>\n",
       "      <td>RCR</td>\n",
       "      <td>Resale</td>\n",
       "      <td>689</td>\n",
       "      <td>16 to 20</td>\n",
       "      <td>93.0</td>\n",
       "      <td>Nov-19</td>\n",
       "      <td>1</td>\n",
       "    </tr>\n",
       "    <tr>\n",
       "      <th>2</th>\n",
       "      <td>THE TRILINQ</td>\n",
       "      <td>1755000</td>\n",
       "      <td>1304</td>\n",
       "      <td>5</td>\n",
       "      <td>OCR</td>\n",
       "      <td>Resale</td>\n",
       "      <td>1346</td>\n",
       "      <td>06 to 10</td>\n",
       "      <td>92.0</td>\n",
       "      <td>Nov-19</td>\n",
       "      <td>3</td>\n",
       "    </tr>\n",
       "    <tr>\n",
       "      <th>3</th>\n",
       "      <td>THE CREST</td>\n",
       "      <td>2085000</td>\n",
       "      <td>2201</td>\n",
       "      <td>3</td>\n",
       "      <td>RCR</td>\n",
       "      <td>Resale</td>\n",
       "      <td>947</td>\n",
       "      <td>01 to 05</td>\n",
       "      <td>92.0</td>\n",
       "      <td>Nov-19</td>\n",
       "      <td>2</td>\n",
       "    </tr>\n",
       "    <tr>\n",
       "      <th>4</th>\n",
       "      <td>THE ANCHORAGE</td>\n",
       "      <td>1848888</td>\n",
       "      <td>1468</td>\n",
       "      <td>3</td>\n",
       "      <td>RCR</td>\n",
       "      <td>Resale</td>\n",
       "      <td>1259</td>\n",
       "      <td>01 to 05</td>\n",
       "      <td>999.0</td>\n",
       "      <td>Nov-19</td>\n",
       "      <td>3</td>\n",
       "    </tr>\n",
       "    <tr>\n",
       "      <th>...</th>\n",
       "      <td>...</td>\n",
       "      <td>...</td>\n",
       "      <td>...</td>\n",
       "      <td>...</td>\n",
       "      <td>...</td>\n",
       "      <td>...</td>\n",
       "      <td>...</td>\n",
       "      <td>...</td>\n",
       "      <td>...</td>\n",
       "      <td>...</td>\n",
       "      <td>...</td>\n",
       "    </tr>\n",
       "    <tr>\n",
       "      <th>32163</th>\n",
       "      <td>SKIES MILTONIA</td>\n",
       "      <td>1268000</td>\n",
       "      <td>1178</td>\n",
       "      <td>27</td>\n",
       "      <td>OCR</td>\n",
       "      <td>Resale</td>\n",
       "      <td>1076</td>\n",
       "      <td>11 to 15</td>\n",
       "      <td>95.0</td>\n",
       "      <td>Nov-16</td>\n",
       "      <td>2</td>\n",
       "    </tr>\n",
       "    <tr>\n",
       "      <th>32164</th>\n",
       "      <td>SYMPHONY SUITES</td>\n",
       "      <td>824000</td>\n",
       "      <td>1034</td>\n",
       "      <td>27</td>\n",
       "      <td>OCR</td>\n",
       "      <td>New Sale</td>\n",
       "      <td>797</td>\n",
       "      <td>06 to 10</td>\n",
       "      <td>97.0</td>\n",
       "      <td>Nov-16</td>\n",
       "      <td>1</td>\n",
       "    </tr>\n",
       "    <tr>\n",
       "      <th>32165</th>\n",
       "      <td>SELETARIS</td>\n",
       "      <td>1250000</td>\n",
       "      <td>754</td>\n",
       "      <td>27</td>\n",
       "      <td>OCR</td>\n",
       "      <td>Resale</td>\n",
       "      <td>1658</td>\n",
       "      <td>01 to 05</td>\n",
       "      <td>999.0</td>\n",
       "      <td>Nov-16</td>\n",
       "      <td>3</td>\n",
       "    </tr>\n",
       "    <tr>\n",
       "      <th>32166</th>\n",
       "      <td>RIVERBANK @ FERNVALE</td>\n",
       "      <td>1082000</td>\n",
       "      <td>1026</td>\n",
       "      <td>28</td>\n",
       "      <td>OCR</td>\n",
       "      <td>New Sale</td>\n",
       "      <td>1055</td>\n",
       "      <td>16 to 20</td>\n",
       "      <td>96.0</td>\n",
       "      <td>Nov-16</td>\n",
       "      <td>2</td>\n",
       "    </tr>\n",
       "    <tr>\n",
       "      <th>32167</th>\n",
       "      <td>THE ESTUARY</td>\n",
       "      <td>610000</td>\n",
       "      <td>1012</td>\n",
       "      <td>27</td>\n",
       "      <td>OCR</td>\n",
       "      <td>Resale</td>\n",
       "      <td>603</td>\n",
       "      <td>01 to 05</td>\n",
       "      <td>91.0</td>\n",
       "      <td>Nov-16</td>\n",
       "      <td>1</td>\n",
       "    </tr>\n",
       "  </tbody>\n",
       "</table>\n",
       "<p>32168 rows × 11 columns</p>\n",
       "</div>"
      ],
      "text/plain": [
       "                       name    price  unit_price  district_code segment  \\\n",
       "0                  SEASCAPE  4388000        2028              4     CCR   \n",
       "1       COMMONWEALTH TOWERS  1300000        1887              3     RCR   \n",
       "2               THE TRILINQ  1755000        1304              5     OCR   \n",
       "3                 THE CREST  2085000        2201              3     RCR   \n",
       "4             THE ANCHORAGE  1848888        1468              3     RCR   \n",
       "...                     ...      ...         ...            ...     ...   \n",
       "32163        SKIES MILTONIA  1268000        1178             27     OCR   \n",
       "32164       SYMPHONY SUITES   824000        1034             27     OCR   \n",
       "32165             SELETARIS  1250000         754             27     OCR   \n",
       "32166  RIVERBANK @ FERNVALE  1082000        1026             28     OCR   \n",
       "32167           THE ESTUARY   610000        1012             27     OCR   \n",
       "\n",
       "           type  area     level  remaining_years    date  AreaGp  \n",
       "0        Resale  2164  06 to 10             87.0  Nov-19       3  \n",
       "1        Resale   689  16 to 20             93.0  Nov-19       1  \n",
       "2        Resale  1346  06 to 10             92.0  Nov-19       3  \n",
       "3        Resale   947  01 to 05             92.0  Nov-19       2  \n",
       "4        Resale  1259  01 to 05            999.0  Nov-19       3  \n",
       "...         ...   ...       ...              ...     ...     ...  \n",
       "32163    Resale  1076  11 to 15             95.0  Nov-16       2  \n",
       "32164  New Sale   797  06 to 10             97.0  Nov-16       1  \n",
       "32165    Resale  1658  01 to 05            999.0  Nov-16       3  \n",
       "32166  New Sale  1055  16 to 20             96.0  Nov-16       2  \n",
       "32167    Resale   603  01 to 05             91.0  Nov-16       1  \n",
       "\n",
       "[32168 rows x 11 columns]"
      ]
     },
     "execution_count": 84,
     "metadata": {},
     "output_type": "execute_result"
    }
   ],
   "source": [
    "df['AreaGp'] =  1 * SmallCondo + 2 * MedianCondo + 3 * LargeCondo\n",
    "df"
   ]
  },
  {
   "cell_type": "code",
   "execution_count": 88,
   "metadata": {},
   "outputs": [],
   "source": [
    "Area = {1: \"Small\",      \n",
    "       2: \"Median\",\n",
    "       3: \"Large\"}"
   ]
  },
  {
   "cell_type": "code",
   "execution_count": 89,
   "metadata": {},
   "outputs": [
    {
     "data": {
      "text/html": [
       "<div>\n",
       "<style scoped>\n",
       "    .dataframe tbody tr th:only-of-type {\n",
       "        vertical-align: middle;\n",
       "    }\n",
       "\n",
       "    .dataframe tbody tr th {\n",
       "        vertical-align: top;\n",
       "    }\n",
       "\n",
       "    .dataframe thead th {\n",
       "        text-align: right;\n",
       "    }\n",
       "</style>\n",
       "<table border=\"1\" class=\"dataframe\">\n",
       "  <thead>\n",
       "    <tr style=\"text-align: right;\">\n",
       "      <th></th>\n",
       "      <th>name</th>\n",
       "      <th>price</th>\n",
       "      <th>unit_price</th>\n",
       "      <th>district_code</th>\n",
       "      <th>segment</th>\n",
       "      <th>type</th>\n",
       "      <th>area</th>\n",
       "      <th>level</th>\n",
       "      <th>remaining_years</th>\n",
       "      <th>date</th>\n",
       "      <th>AreaGp</th>\n",
       "      <th>Condo Size</th>\n",
       "      <th>CondoSize</th>\n",
       "    </tr>\n",
       "  </thead>\n",
       "  <tbody>\n",
       "    <tr>\n",
       "      <th>0</th>\n",
       "      <td>SEASCAPE</td>\n",
       "      <td>4388000</td>\n",
       "      <td>2028</td>\n",
       "      <td>4</td>\n",
       "      <td>CCR</td>\n",
       "      <td>Resale</td>\n",
       "      <td>2164</td>\n",
       "      <td>06 to 10</td>\n",
       "      <td>87.0</td>\n",
       "      <td>Nov-19</td>\n",
       "      <td>3</td>\n",
       "      <td>Large</td>\n",
       "      <td>Large</td>\n",
       "    </tr>\n",
       "    <tr>\n",
       "      <th>1</th>\n",
       "      <td>COMMONWEALTH TOWERS</td>\n",
       "      <td>1300000</td>\n",
       "      <td>1887</td>\n",
       "      <td>3</td>\n",
       "      <td>RCR</td>\n",
       "      <td>Resale</td>\n",
       "      <td>689</td>\n",
       "      <td>16 to 20</td>\n",
       "      <td>93.0</td>\n",
       "      <td>Nov-19</td>\n",
       "      <td>1</td>\n",
       "      <td>Small</td>\n",
       "      <td>Small</td>\n",
       "    </tr>\n",
       "    <tr>\n",
       "      <th>2</th>\n",
       "      <td>THE TRILINQ</td>\n",
       "      <td>1755000</td>\n",
       "      <td>1304</td>\n",
       "      <td>5</td>\n",
       "      <td>OCR</td>\n",
       "      <td>Resale</td>\n",
       "      <td>1346</td>\n",
       "      <td>06 to 10</td>\n",
       "      <td>92.0</td>\n",
       "      <td>Nov-19</td>\n",
       "      <td>3</td>\n",
       "      <td>Large</td>\n",
       "      <td>Large</td>\n",
       "    </tr>\n",
       "    <tr>\n",
       "      <th>3</th>\n",
       "      <td>THE CREST</td>\n",
       "      <td>2085000</td>\n",
       "      <td>2201</td>\n",
       "      <td>3</td>\n",
       "      <td>RCR</td>\n",
       "      <td>Resale</td>\n",
       "      <td>947</td>\n",
       "      <td>01 to 05</td>\n",
       "      <td>92.0</td>\n",
       "      <td>Nov-19</td>\n",
       "      <td>2</td>\n",
       "      <td>Mediam</td>\n",
       "      <td>Median</td>\n",
       "    </tr>\n",
       "    <tr>\n",
       "      <th>4</th>\n",
       "      <td>THE ANCHORAGE</td>\n",
       "      <td>1848888</td>\n",
       "      <td>1468</td>\n",
       "      <td>3</td>\n",
       "      <td>RCR</td>\n",
       "      <td>Resale</td>\n",
       "      <td>1259</td>\n",
       "      <td>01 to 05</td>\n",
       "      <td>999.0</td>\n",
       "      <td>Nov-19</td>\n",
       "      <td>3</td>\n",
       "      <td>Large</td>\n",
       "      <td>Large</td>\n",
       "    </tr>\n",
       "    <tr>\n",
       "      <th>...</th>\n",
       "      <td>...</td>\n",
       "      <td>...</td>\n",
       "      <td>...</td>\n",
       "      <td>...</td>\n",
       "      <td>...</td>\n",
       "      <td>...</td>\n",
       "      <td>...</td>\n",
       "      <td>...</td>\n",
       "      <td>...</td>\n",
       "      <td>...</td>\n",
       "      <td>...</td>\n",
       "      <td>...</td>\n",
       "      <td>...</td>\n",
       "    </tr>\n",
       "    <tr>\n",
       "      <th>32163</th>\n",
       "      <td>SKIES MILTONIA</td>\n",
       "      <td>1268000</td>\n",
       "      <td>1178</td>\n",
       "      <td>27</td>\n",
       "      <td>OCR</td>\n",
       "      <td>Resale</td>\n",
       "      <td>1076</td>\n",
       "      <td>11 to 15</td>\n",
       "      <td>95.0</td>\n",
       "      <td>Nov-16</td>\n",
       "      <td>2</td>\n",
       "      <td>Mediam</td>\n",
       "      <td>Median</td>\n",
       "    </tr>\n",
       "    <tr>\n",
       "      <th>32164</th>\n",
       "      <td>SYMPHONY SUITES</td>\n",
       "      <td>824000</td>\n",
       "      <td>1034</td>\n",
       "      <td>27</td>\n",
       "      <td>OCR</td>\n",
       "      <td>New Sale</td>\n",
       "      <td>797</td>\n",
       "      <td>06 to 10</td>\n",
       "      <td>97.0</td>\n",
       "      <td>Nov-16</td>\n",
       "      <td>1</td>\n",
       "      <td>Small</td>\n",
       "      <td>Small</td>\n",
       "    </tr>\n",
       "    <tr>\n",
       "      <th>32165</th>\n",
       "      <td>SELETARIS</td>\n",
       "      <td>1250000</td>\n",
       "      <td>754</td>\n",
       "      <td>27</td>\n",
       "      <td>OCR</td>\n",
       "      <td>Resale</td>\n",
       "      <td>1658</td>\n",
       "      <td>01 to 05</td>\n",
       "      <td>999.0</td>\n",
       "      <td>Nov-16</td>\n",
       "      <td>3</td>\n",
       "      <td>Large</td>\n",
       "      <td>Large</td>\n",
       "    </tr>\n",
       "    <tr>\n",
       "      <th>32166</th>\n",
       "      <td>RIVERBANK @ FERNVALE</td>\n",
       "      <td>1082000</td>\n",
       "      <td>1026</td>\n",
       "      <td>28</td>\n",
       "      <td>OCR</td>\n",
       "      <td>New Sale</td>\n",
       "      <td>1055</td>\n",
       "      <td>16 to 20</td>\n",
       "      <td>96.0</td>\n",
       "      <td>Nov-16</td>\n",
       "      <td>2</td>\n",
       "      <td>Mediam</td>\n",
       "      <td>Median</td>\n",
       "    </tr>\n",
       "    <tr>\n",
       "      <th>32167</th>\n",
       "      <td>THE ESTUARY</td>\n",
       "      <td>610000</td>\n",
       "      <td>1012</td>\n",
       "      <td>27</td>\n",
       "      <td>OCR</td>\n",
       "      <td>Resale</td>\n",
       "      <td>603</td>\n",
       "      <td>01 to 05</td>\n",
       "      <td>91.0</td>\n",
       "      <td>Nov-16</td>\n",
       "      <td>1</td>\n",
       "      <td>Small</td>\n",
       "      <td>Small</td>\n",
       "    </tr>\n",
       "  </tbody>\n",
       "</table>\n",
       "<p>32168 rows × 13 columns</p>\n",
       "</div>"
      ],
      "text/plain": [
       "                       name    price  unit_price  district_code segment  \\\n",
       "0                  SEASCAPE  4388000        2028              4     CCR   \n",
       "1       COMMONWEALTH TOWERS  1300000        1887              3     RCR   \n",
       "2               THE TRILINQ  1755000        1304              5     OCR   \n",
       "3                 THE CREST  2085000        2201              3     RCR   \n",
       "4             THE ANCHORAGE  1848888        1468              3     RCR   \n",
       "...                     ...      ...         ...            ...     ...   \n",
       "32163        SKIES MILTONIA  1268000        1178             27     OCR   \n",
       "32164       SYMPHONY SUITES   824000        1034             27     OCR   \n",
       "32165             SELETARIS  1250000         754             27     OCR   \n",
       "32166  RIVERBANK @ FERNVALE  1082000        1026             28     OCR   \n",
       "32167           THE ESTUARY   610000        1012             27     OCR   \n",
       "\n",
       "           type  area     level  remaining_years    date  AreaGp Condo Size  \\\n",
       "0        Resale  2164  06 to 10             87.0  Nov-19       3      Large   \n",
       "1        Resale   689  16 to 20             93.0  Nov-19       1      Small   \n",
       "2        Resale  1346  06 to 10             92.0  Nov-19       3      Large   \n",
       "3        Resale   947  01 to 05             92.0  Nov-19       2     Mediam   \n",
       "4        Resale  1259  01 to 05            999.0  Nov-19       3      Large   \n",
       "...         ...   ...       ...              ...     ...     ...        ...   \n",
       "32163    Resale  1076  11 to 15             95.0  Nov-16       2     Mediam   \n",
       "32164  New Sale   797  06 to 10             97.0  Nov-16       1      Small   \n",
       "32165    Resale  1658  01 to 05            999.0  Nov-16       3      Large   \n",
       "32166  New Sale  1055  16 to 20             96.0  Nov-16       2     Mediam   \n",
       "32167    Resale   603  01 to 05             91.0  Nov-16       1      Small   \n",
       "\n",
       "      CondoSize  \n",
       "0         Large  \n",
       "1         Small  \n",
       "2         Large  \n",
       "3        Median  \n",
       "4         Large  \n",
       "...         ...  \n",
       "32163    Median  \n",
       "32164     Small  \n",
       "32165     Large  \n",
       "32166    Median  \n",
       "32167     Small  \n",
       "\n",
       "[32168 rows x 13 columns]"
      ]
     },
     "execution_count": 89,
     "metadata": {},
     "output_type": "execute_result"
    }
   ],
   "source": [
    "df[\"CondoSize\"] = df[\"AreaGp\"].map(Area)\n",
    "df"
   ]
  },
  {
   "cell_type": "code",
   "execution_count": null,
   "metadata": {},
   "outputs": [],
   "source": []
  },
  {
   "cell_type": "markdown",
   "metadata": {},
   "source": [
    "## Task 5: The relationship between the condo price and the condo type, controlling for the condo area \n",
    "\n",
    "\n",
    "With the new categorical variable and the condo type, 6 possible combinations of the two variables can be generated to represent a condo’s profile. For example, we can define a condo's profile as small and resale. Now please explore the relationship between the condo price and condo type by 3 different categories of the condo area. What is your conclusion? "
   ]
  },
  {
   "cell_type": "code",
   "execution_count": null,
   "metadata": {},
   "outputs": [],
   "source": [
    "# SmRes = small resale\n",
    "# MedRes = median resale\n",
    "# LarRes = large resale\n",
    "\n",
    "# SmNew = small new\n",
    "# MedNew = median new\n",
    "# LarNew = large new"
   ]
  },
  {
   "cell_type": "code",
   "execution_count": 90,
   "metadata": {},
   "outputs": [],
   "source": [
    "SmRes = (df['type'] == 'Resale') & (df['CondoSize'] == 'Small')\n",
    "MedRes = (df['type'] == 'Resale') & (df['CondoSize'] == 'Median')\n",
    "LarRes = (df['type'] == 'Resale') & (df['CondoSize'] == 'Large')\n",
    "\n",
    "SmNew = (df['type'] == 'New Sale') & (df['CondoSize'] == 'Small')\n",
    "MedNew = (df['type'] == 'New Sale') & (df['CondoSize'] == 'Median')\n",
    "LarNew = (df['type'] == 'New Sale') & (df['CondoSize'] == 'Large')"
   ]
  },
  {
   "cell_type": "code",
   "execution_count": 96,
   "metadata": {},
   "outputs": [],
   "source": [
    "type_set = [\"Resale\", 'New Sale']"
   ]
  },
  {
   "cell_type": "code",
   "execution_count": 106,
   "metadata": {},
   "outputs": [
    {
     "data": {
      "image/png": "[encoded data removed]",
      "text/plain": [
       "<Figure size 432x288 with 3 Axes>"
      ]
     },
     "metadata": {},
     "output_type": "display_data"
    }
   ],
   "source": [
    "plt.style.use('ggplot')\n",
    "f, (ax1, ax2, ax3) = plt.subplots(1, 3, sharey=True)\n",
    "\n",
    "\n",
    "data_small = [df.loc[SmRes,\"price\"],df.loc[SmNew,\"price\"]]\n",
    "ax1.boxplot(x = data_small, showfliers=False)\n",
    "ax1.set_xticks([1,2])\n",
    "ax1.set_xticklabels(type_set)\n",
    "\n",
    "ax1.set_ylabel('Condo Price ($ mil)')\n",
    "\n",
    "\n",
    "data_median = [df.loc[MedRes,\"price\"],df.loc[MedNew,\"price\"]]\n",
    "ax2.boxplot(x = data_median, showfliers=False)\n",
    "ax2.set_xticks([1,2])\n",
    "ax2.set_xticklabels(type_set)\n",
    "\n",
    "\n",
    "data_large = [df.loc[LarRes,\"price\"],df.loc[LarNew,\"price\"]]\n",
    "ax3.boxplot(x = data_large, showfliers=False)\n",
    "ax3.set_xticks([1,2])\n",
    "ax3.set_xticklabels(type_set)\n",
    "\n",
    "\n",
    "plt.show()\n",
    "\n"
   ]
  },
  {
   "cell_type": "code",
   "execution_count": null,
   "metadata": {},
   "outputs": [],
   "source": []
  },
  {
   "cell_type": "code",
   "execution_count": null,
   "metadata": {},
   "outputs": [],
   "source": []
  },
  {
   "cell_type": "code",
   "execution_count": null,
   "metadata": {},
   "outputs": [],
   "source": []
  }
 ],
 "metadata": {
  "kernelspec": {
   "display_name": "Python 3",
   "language": "python",
   "name": "python3"
  },
  "language_info": {
   "codemirror_mode": {
    "name": "ipython",
    "version": 3
   },
   "file_extension": ".py",
   "mimetype": "text/x-python",
   "name": "python",
   "nbconvert_exporter": "python",
   "pygments_lexer": "ipython3",
   "version": "3.8.5"
  }
 },
 "nbformat": 4,
 "nbformat_minor": 4
}
